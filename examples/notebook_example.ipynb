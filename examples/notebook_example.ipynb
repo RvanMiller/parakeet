{
 "cells": [
  {
   "cell_type": "markdown",
   "id": "b9853e71",
   "metadata": {},
   "source": [
    "# Jupyter Notebook Example"
   ]
  },
  {
   "cell_type": "markdown",
   "id": "5ecf3866",
   "metadata": {},
   "source": [
    "### Login"
   ]
  },
  {
   "cell_type": "markdown",
   "id": "ae5b319c",
   "metadata": {},
   "source": [
    "Log in using existing session with `rh.login()`.  To log in for the first time, use PYOTP and `rh.login(...)`."
   ]
  },
  {
   "cell_type": "code",
   "execution_count": null,
   "id": "f7f979a1",
   "metadata": {},
   "outputs": [],
   "source": [
    "import robinhood_client as rh\n",
    "\n",
    "rh.login()"
   ]
  },
  {
   "cell_type": "markdown",
   "id": "4bfee079",
   "metadata": {},
   "source": [
    "### Get All Interest Payments"
   ]
  },
  {
   "cell_type": "code",
   "execution_count": null,
   "id": "861349b2",
   "metadata": {},
   "outputs": [],
   "source": [
    "rh.get_interest_payments()"
   ]
  },
  {
   "cell_type": "code",
   "execution_count": null,
   "id": "5cee45d4",
   "metadata": {},
   "outputs": [],
   "source": []
  }
 ],
 "metadata": {
  "kernelspec": {
   "display_name": "Python 3",
   "language": "python",
   "name": "python3"
  },
  "language_info": {
   "codemirror_mode": {
    "name": "ipython",
    "version": 3
   },
   "file_extension": ".py",
   "mimetype": "text/x-python",
   "name": "python",
   "nbconvert_exporter": "python",
   "pygments_lexer": "ipython3",
   "version": "3.13.5"
  }
 },
 "nbformat": 4,
 "nbformat_minor": 5
}
